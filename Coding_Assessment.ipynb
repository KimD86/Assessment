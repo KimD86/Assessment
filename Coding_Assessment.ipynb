{
  "cells": [
    {
      "cell_type": "markdown",
      "metadata": {
        "id": "view-in-github",
        "colab_type": "text"
      },
      "source": [
        "<a href=\"https://colab.research.google.com/github/KimD86/Assessment/blob/main/Coding_Assessment.ipynb\" target=\"_parent\"><img src=\"https://colab.research.google.com/assets/colab-badge.svg\" alt=\"Open In Colab\"/></a>"
      ]
    },
    {
      "cell_type": "code",
      "execution_count": null,
      "metadata": {
        "id": "B8jHd2uusynC"
      },
      "outputs": [],
      "source": []
    },
    {
      "cell_type": "code",
      "execution_count": null,
      "metadata": {
        "id": "Gba_4Mc2tBXq"
      },
      "outputs": [],
      "source": []
    },
    {
      "cell_type": "markdown",
      "metadata": {
        "id": "zGZ5Ze9Ws-hF"
      },
      "source": [
        "#AN ANALYSIS OF VIOLENT OFFENCES IN THE NORTH EAST ON FOOTBALL GAME DAYS.\n",
        "DO VIOLENT OFFENCES INCREASE ON THE DAYS NEWCASTLE UNITED PLAY AT HOME?"
      ]
    },
    {
      "cell_type": "markdown",
      "metadata": {
        "id": "Aor-zim7F7xM"
      },
      "source": [
        "This coding report aims to conduct an analysis into the rates of recorded violent offence crimes in the North East of England. It will be analysing the crimes and looking to see if there is an increase in cases when the local football teams play a home game. The area that is being looked at is Newcastle in months where Newcastle United have played games.\n",
        "#Violent crime covers a variety of offences – ranging from common assault to murder. It also encompasses the use of weapons such as firearms, knives and corrosive substances like acid.\n",
        "The data used has been retrieved from [data.police.uk](https:/https://data.police.uk//) and covers both the 2020-2021 football season and the 2021-2022 season. The months for the football seasons are from July - May.\n",
        "Spreadsheets have been made using the information from the football clubs websites and have been pulled in to create table's, graphs and maps to show where the violent offences are a problem.  "
      ]
    },
    {
      "cell_type": "markdown",
      "metadata": {
        "id": "-ZZ-4fGW4_v2"
      },
      "source": [
        "#LIMITATIONS"
      ]
    },
    {
      "cell_type": "markdown",
      "metadata": {
        "id": "aPQexlu55Hd_"
      },
      "source": [
        "When looking at the data from the police data website there are limitations, these include:\n",
        "\n",
        "\n",
        "1.  In the Police Data UK records, violence and sexual offences are combined so they cannot be differentiated to say whether the crime recorded was violence or sexually orientated, or both. For the purpose of this report, the crimes have been assumed to be violent offences.\n",
        "2.   Not all crimes are reported so it is uncertain how accurate the statistics are.\n",
        "3. There are often many factors involved in why a crime is happening in a certain area, so it cannot be stated for certain what one specific reason is the main cause of the crime.\n",
        "4. A month with an increase in the level of crime, does not mean that there have been more crimes, but could, mean that more people have reported that the offence has happened."
      ]
    },
    {
      "cell_type": "code",
      "execution_count": null,
      "metadata": {
        "id": "eN5yOvdvtb9k"
      },
      "outputs": [],
      "source": [
        "import pandas as pd"
      ]
    },
    {
      "cell_type": "code",
      "execution_count": null,
      "metadata": {
        "id": "VXWWXMjHciuC"
      },
      "outputs": [],
      "source": [
        "import matplotlib.pyplot as plt\n",
        "import seaborn as sns\n",
        "import folium\n",
        "from folium import plugins"
      ]
    },
    {
      "cell_type": "code",
      "execution_count": null,
      "metadata": {
        "id": "80zgHXnCczaJ"
      },
      "outputs": [],
      "source": [
        "from folium.plugins import HeatMap\n",
        "from folium.plugins import MarkerCluster\n",
        "from folium.plugins import MeasureControl\n",
        "import numpy as np"
      ]
    },
    {
      "cell_type": "markdown",
      "metadata": {
        "id": "z5HcVy0hN7t1"
      },
      "source": [
        "#A python library has been used called pandas, this stands for panel data, it has been imported ad pd. Pandas is used for data manipulation and analysis and offers data structures and operations for manipulating numerical tables and time series."
      ]
    },
    {
      "cell_type": "markdown",
      "metadata": {
        "id": "iRrUEugCDCvU"
      },
      "source": [
        "##BRIEFING\n",
        "\n",
        "Football in the North East has a large following and many fans attend home and away games. When there have been home games in the Newcastle area there have also been a lot of violent crimes recorded. The report will analyse data and try to find a link between football games at home and violent offences. An example of one violent offence at a home football game can be seen in the following link. Four men given banning orders after disorder flared before Newcastle United home game. https://beta.northumbria.police.uk/latest-news/2023/march/four-men-given-banning-orders-after-disorder-flared-before-newcastle-united-home-game/"
      ]
    },
    {
      "cell_type": "markdown",
      "metadata": {
        "id": "CN2sg9reblT0"
      },
      "source": [
        "##Methodology\n",
        "\n",
        "The data used in this report was collected from various sources, including the data police website, where crime statistics were downloaded for the months needed to compare and analyse. Pandas has been used to pull in the data, make new data frames and to analyse the crime type that is being looked at, the crime type looked at here will be violent offences.  "
      ]
    },
    {
      "cell_type": "markdown",
      "metadata": {
        "id": "MU6i4s6eWiHe"
      },
      "source": [
        "The following tables were made on Excel spreadsheets that show the Newcastle football scores for the seasons that were being looked at, these are 2020/2021 and 2021/2022 seasons.\n",
        "They show the dates of games, who they played against, if it was a home or away game along with the scores.  "
      ]
    },
    {
      "cell_type": "code",
      "execution_count": null,
      "metadata": {
        "id": "hR7isLFkJLoD"
      },
      "outputs": [],
      "source": [
        "df_newcastle_season_20202021=pd.read_excel('/content/drive/MyDrive/Colab Notebooks/Season 2020 2021.xlsx')\n",
        "df_newcastle_season_20202021"
      ]
    },
    {
      "cell_type": "markdown",
      "metadata": {
        "id": "laPnes0sJagh"
      },
      "source": [
        "A spreadsheet was created to show the scores for all the Newcastle United football games in the 2020-2021 season. Once the spreadsheet was done a new data frame was created called df_newcastle_season_20202021, pandas read the file from the Google Drive content and pilled it in to show the information in the above."
      ]
    },
    {
      "cell_type": "code",
      "execution_count": null,
      "metadata": {
        "id": "xkeVYwbbEb6Q"
      },
      "outputs": [],
      "source": [
        "df_newcastle_season_20212022=pd.read_excel('/content/drive/MyDrive/Season 2021 2022 games.xlsx')\n",
        "df_newcastle_season_20212022"
      ]
    },
    {
      "cell_type": "markdown",
      "metadata": {
        "id": "PKKLW6ZkJAYW"
      },
      "source": [
        "There was another spreadsheet created, this time for the 2021-2022 season and using pandas a new dataframe was created and pulled the information over into the report."
      ]
    },
    {
      "cell_type": "markdown",
      "metadata": {
        "id": "cQ_sPDsOhpzf"
      },
      "source": [
        "#The two table's above show the seasons 2020-2021 and 2021-2022 games for Newcastle United. The tables show the dates of the games, if they were played at home or away, the teams played and if the game was a win or a loss. From the tables the data is going to be looked at and charts, table's and graphs made to show what months have a higher rate of violent offences. Months where there have been more home games will be looked at to see if there is an increase in the offences from those months where there are more away games."
      ]
    },
    {
      "cell_type": "markdown",
      "metadata": {
        "id": "lu3xg8GGPiEE"
      },
      "source": [
        "Spreadsheets were made and pulled in that were going to be used for the analysis. Once they were made, the police data website was used to download the crime files for Northumbria so that the crime type could be analysed. Firstly, each month that was being analysed was pulled in using the following code and method."
      ]
    },
    {
      "cell_type": "markdown",
      "metadata": {
        "id": "4A1sg9NQXY5Y"
      },
      "source": [
        "#The code was analysed and provides an unserstanding into what the aim of the investigation was.\n"
      ]
    },
    {
      "cell_type": "code",
      "execution_count": null,
      "metadata": {
        "id": "PrM0MpU0JP5z"
      },
      "outputs": [],
      "source": [
        "df_crime_july_2020=pd.read_csv('/content/drive/MyDrive/Colab Notebooks/2020-07/2020-07-northumbria-street.csv')"
      ]
    },
    {
      "cell_type": "code",
      "execution_count": null,
      "metadata": {
        "id": "43BECgECK8x0"
      },
      "outputs": [],
      "source": [
        "df_crime_july_2020.head()"
      ]
    },
    {
      "cell_type": "code",
      "execution_count": null,
      "metadata": {
        "id": "d_ZYocxuNfrR"
      },
      "outputs": [],
      "source": [
        "len(df_crime_july_2020)"
      ]
    },
    {
      "cell_type": "markdown",
      "metadata": {
        "id": "Hvop5BK0QOkQ"
      },
      "source": [
        "len is used to bring up the total number of items in the container. In this case it was the total number of crime in the area specified for the month of July."
      ]
    },
    {
      "cell_type": "code",
      "execution_count": null,
      "metadata": {
        "id": "I78znn4tQMoo"
      },
      "outputs": [],
      "source": [
        "df_crime_july_2020['Crime type'].value_counts()"
      ]
    },
    {
      "cell_type": "code",
      "execution_count": null,
      "metadata": {
        "cellView": "form",
        "id": "PkWycs3mQYvj"
      },
      "outputs": [],
      "source": [
        "#@title Chart showing crime types for July 2020\n",
        "g = sns.catplot(x=\"Crime type\",\n",
        "                data=df_crime_july_2020,\n",
        "                row= 'Month',\n",
        "                kind=\"count\",\n",
        "                palette=\"Reds\", # see this link https://seaborn.pydata.org/tutorial/color_palettes.html\n",
        "                aspect =3,\n",
        "                height=4,\n",
        "                order=df_crime_july_2020['Crime type'].value_counts().sort_values(ascending=False).index\n",
        "                )\n",
        "g.set_xticklabels(rotation=70, horizontalalignment='right')"
      ]
    },
    {
      "cell_type": "markdown",
      "metadata": {
        "id": "SSZ3NYM2hjnT"
      },
      "source": [
        "The bar chart is showing the crime types and how many have been reportesd in the month on July. It can be seen that violent offences is the highest reported crime for this month."
      ]
    },
    {
      "cell_type": "code",
      "execution_count": null,
      "metadata": {
        "id": "YFvVDThKOnZL"
      },
      "outputs": [],
      "source": [
        "df_crime_august_2020=pd.read_csv('/content/drive/MyDrive/Colab Notebooks/2020-08/2020-08-northumbria-street.csv')"
      ]
    },
    {
      "cell_type": "code",
      "execution_count": null,
      "metadata": {
        "id": "BtPDWdmDP2Co"
      },
      "outputs": [],
      "source": [
        "df_crime_august_2020.head()"
      ]
    },
    {
      "cell_type": "code",
      "execution_count": null,
      "metadata": {
        "id": "AXhbpd-xQx_2"
      },
      "outputs": [],
      "source": [
        "df_crime_august_2020['Crime type'].value_counts()"
      ]
    },
    {
      "cell_type": "code",
      "execution_count": null,
      "metadata": {
        "id": "XW7X-nKeQ4R_"
      },
      "outputs": [],
      "source": [
        "#@title Chart showing crime types from August 2020\n",
        "g = sns.catplot(x=\"Crime type\",\n",
        "                data=df_crime_august_2020,\n",
        "                row= 'Month',\n",
        "                kind=\"count\",\n",
        "                palette=\"Reds\", # see this link https://seaborn.pydata.org/tutorial/color_palettes.html\n",
        "                aspect =3,\n",
        "                height=4,\n",
        "                order=df_crime_august_2020['Crime type'].value_counts().sort_values(ascending=False).index\n",
        "                )\n",
        "g.set_xticklabels(rotation=70, horizontalalignment='right')"
      ]
    },
    {
      "cell_type": "code",
      "execution_count": null,
      "metadata": {
        "id": "myrPsIEqRaK4"
      },
      "outputs": [],
      "source": [
        "df_crime_september_2020=pd.read_csv('/content/drive/MyDrive/Colab Notebooks/2020-09/2020-09-northumbria-street.csv')"
      ]
    },
    {
      "cell_type": "code",
      "execution_count": null,
      "metadata": {
        "id": "-WZH-HK2Rnga"
      },
      "outputs": [],
      "source": [
        "df_crime_september_2020.head()"
      ]
    },
    {
      "cell_type": "code",
      "execution_count": null,
      "metadata": {
        "id": "7D2dZUMXR2Xp"
      },
      "outputs": [],
      "source": [
        "df_crime_october_2020=pd.read_csv('/content/drive/MyDrive/Colab Notebooks/2020-10/2020-10-northumbria-street.csv')"
      ]
    },
    {
      "cell_type": "code",
      "execution_count": null,
      "metadata": {
        "id": "_Q8uVBqSR-sS"
      },
      "outputs": [],
      "source": [
        "df_crime_october_2020.head()"
      ]
    },
    {
      "cell_type": "code",
      "execution_count": null,
      "metadata": {
        "id": "l3ZKSQxwTYIo"
      },
      "outputs": [],
      "source": [
        "df_crime_november_2020=pd.read_csv('/content/drive/MyDrive/Colab Notebooks/2020-11/2020-11-northumbria-street.csv')"
      ]
    },
    {
      "cell_type": "code",
      "execution_count": null,
      "metadata": {
        "id": "-BdTaeEqTrOf"
      },
      "outputs": [],
      "source": [
        "df_crime_november_2020.head()"
      ]
    },
    {
      "cell_type": "code",
      "execution_count": null,
      "metadata": {
        "id": "Ri0x_uqxTwyA"
      },
      "outputs": [],
      "source": [
        "df_december_crime_2020=pd.read_csv('/content/drive/MyDrive/Colab Notebooks/2020-12/2020-12-northumbria-street.csv')"
      ]
    },
    {
      "cell_type": "code",
      "execution_count": null,
      "metadata": {
        "id": "kCRmBQA5T9QO"
      },
      "outputs": [],
      "source": [
        "df_december_crime_2020.head()"
      ]
    },
    {
      "cell_type": "code",
      "execution_count": null,
      "metadata": {
        "id": "CeShgo4oUCzD"
      },
      "outputs": [],
      "source": [
        "df_january_crime_2021=pd.read_csv('/content/drive/MyDrive/Colab Notebooks/2021-01/2021-01-northumbria-street.csv')\n",
        "df_january_crime_2021.head()"
      ]
    },
    {
      "cell_type": "code",
      "execution_count": null,
      "metadata": {
        "id": "yKrFEgI0UfAh"
      },
      "outputs": [],
      "source": [
        "df_february_crime_2021=pd.read_csv('/content/drive/MyDrive/Colab Notebooks/2021-02/2021-02-northumbria-street.csv')\n",
        "df_february_crime_2021.head()"
      ]
    },
    {
      "cell_type": "code",
      "execution_count": null,
      "metadata": {
        "id": "kvuqPcA2UtZV"
      },
      "outputs": [],
      "source": [
        "df_march_crime_2021=pd.read_csv('/content/drive/MyDrive/Colab Notebooks/2021-03/2021-03-northumbria-street.csv')\n",
        "df_march_crime_2021.head()"
      ]
    },
    {
      "cell_type": "code",
      "execution_count": null,
      "metadata": {
        "id": "KeYnQx2TU6gk"
      },
      "outputs": [],
      "source": [
        "df_april_crime_2021=pd.read_csv('/content/drive/MyDrive/Colab Notebooks/2021-04/2021-04-northumbria-street.csv')\n",
        "df_april_crime_2021.head()"
      ]
    },
    {
      "cell_type": "code",
      "execution_count": null,
      "metadata": {
        "id": "RDB8W7S8VG4d"
      },
      "outputs": [],
      "source": [
        "df_may_crime_2021=pd.read_csv('/content/drive/MyDrive/Colab Notebooks/2021-05/2021-05-northumbria-street.csv')\n",
        "df_may_crime_2021.head()"
      ]
    },
    {
      "cell_type": "markdown",
      "metadata": {
        "id": "0zqf6eqZZBZW"
      },
      "source": [
        "The tables and graphs above are showing the crime rates for the Northumbria area, they show the crime type and the location of where that crime happened.\n",
        "# The graph helps to visualise the data and help understand what is going on. It helps to understand what is happening and assists in the analysing any trends."
      ]
    },
    {
      "cell_type": "code",
      "execution_count": null,
      "metadata": {
        "id": "nEtu21FDVXK_"
      },
      "outputs": [],
      "source": [
        "df_allcrime_northumbria_20202021=pd.concat([df_crime_july_2020, df_crime_august_2020, df_crime_september_2020, df_crime_october_2020, df_crime_november_2020, df_december_crime_2020, df_january_crime_2021, df_february_crime_2021, df_march_crime_2021, df_april_crime_2021, df_may_crime_2021])\n",
        "df_allcrime_northumbria_20202021.sample(6)"
      ]
    },
    {
      "cell_type": "code",
      "execution_count": null,
      "metadata": {
        "id": "iXLx9_RvYnCd"
      },
      "outputs": [],
      "source": [
        "df_allcrime_northumbria_20202021.to_csv('/content/drive/MyDrive/Colab Notebooks/crime data for july 2020 - may 2021.csv')"
      ]
    },
    {
      "cell_type": "code",
      "execution_count": null,
      "metadata": {
        "id": "m-W8KSkh6sqe"
      },
      "outputs": [],
      "source": [
        "len(df_allcrime_northumbria_20202021)"
      ]
    },
    {
      "cell_type": "markdown",
      "metadata": {
        "id": "lcnDDGSzQ0se"
      },
      "source": [
        "All the months that are included in the football season were imported to show the data. Once this was done, concat was used. Concatenate is used to merge all the data specified into one. The new data frame was saved into the google drive so that it was ready for any further use for the analysis. Graphs were made to visualise the data to show the different types of crime and how they compare in number of offences committed.  "
      ]
    },
    {
      "cell_type": "code",
      "execution_count": null,
      "metadata": {
        "id": "wCQkBFJeZp4S"
      },
      "outputs": [],
      "source": [
        "sns.catplot(y=\"Crime type\", kind=\"count\", row=\"Month\", height=5, aspect=4,\n",
        "            palette=\"flare\", edgecolor=\".6\",\n",
        "            data=df_allcrime_northumbria_20202021, order = df_allcrime_northumbria_20202021['Crime type'].value_counts().index);"
      ]
    },
    {
      "cell_type": "markdown",
      "metadata": {
        "id": "HlQNizw7h9nP"
      },
      "source": [
        "The charts above are showing the data for all the months looked at in the 2020/2021 season. It shows the months and all the crime types that have been reported over the specified duration."
      ]
    },
    {
      "cell_type": "markdown",
      "metadata": {
        "id": "736HKAOUSIun"
      },
      "source": [
        "The main months that were looked at were July 2020 - May 2021 for this season, these months of data were saved and the a new dataframe was made. When the new dataframe was made, it was decided that the area that needed to be analysed was Newcastle upon Tyne."
      ]
    },
    {
      "cell_type": "code",
      "execution_count": null,
      "metadata": {
        "id": "JRJ-XBmZZ8HP"
      },
      "outputs": [],
      "source": [
        "df=pd.read_csv('/content/drive/MyDrive/Colab Notebooks/crime data for july 2020 - may 2021.csv')"
      ]
    },
    {
      "cell_type": "code",
      "execution_count": null,
      "metadata": {
        "id": "J1EEUU_QaK_v"
      },
      "outputs": [],
      "source": [
        "df.sample(6)"
      ]
    },
    {
      "cell_type": "markdown",
      "metadata": {
        "id": "816jW3GVb1ej"
      },
      "source": [
        "Now all the data has been imported for the Northumbria area, a new dataframe was made that will show only the crimes in the Newcastle area. This is the location of the Newcastle football games so this is the area that woas analysed.  "
      ]
    },
    {
      "cell_type": "code",
      "execution_count": null,
      "metadata": {
        "id": "oiHUXmE6K-8Y"
      },
      "outputs": [],
      "source": [
        "df_Newcastle=df.loc[df['LSOA name'].str.contains('Newcastle upon Tyne 006C', na=False)]"
      ]
    },
    {
      "cell_type": "code",
      "execution_count": null,
      "metadata": {
        "id": "RQeo7rqnktU6"
      },
      "outputs": [],
      "source": [
        "df_Newcastle.shape"
      ]
    },
    {
      "cell_type": "code",
      "execution_count": null,
      "metadata": {
        "id": "snPyBIjzP7Nb"
      },
      "outputs": [],
      "source": [
        "df_Newcastle.head(4)"
      ]
    },
    {
      "cell_type": "code",
      "execution_count": null,
      "metadata": {
        "id": "U-WkHIt0iivP"
      },
      "outputs": [],
      "source": [
        "df_Newcastle.tail(4)"
      ]
    },
    {
      "cell_type": "markdown",
      "metadata": {
        "id": "epZsAuQRboIV"
      },
      "source": []
    },
    {
      "cell_type": "code",
      "execution_count": null,
      "metadata": {
        "id": "gOtidh55WaYd"
      },
      "outputs": [],
      "source": [
        "df_gp_each_month = df_Newcastle.groupby(by='Month')['Crime type'].count()\n",
        "df_gp_each_month"
      ]
    },
    {
      "cell_type": "code",
      "execution_count": null,
      "metadata": {
        "id": "F4MfgbMPXHA8"
      },
      "outputs": [],
      "source": [
        "df_month_count = df_gp_each_month.to_frame(name='Count').reset_index()\n",
        "df_month_count"
      ]
    },
    {
      "cell_type": "code",
      "execution_count": null,
      "metadata": {
        "id": "fUMvK7qpXQOw"
      },
      "outputs": [],
      "source": [
        "g = sns.catplot(data=df_month_count, x=\"Month\", y=\"Count\", kind=\"bar\", palette=\"copper\", height=4, aspect=2)\n",
        "g.set_xticklabels(rotation=70, horizontalalignment='right')"
      ]
    },
    {
      "cell_type": "markdown",
      "metadata": {
        "id": "YDiXD92g2-qv"
      },
      "source": [
        "A new dataframe has been made in order to make the data show violent offences only in the Newcastle area. Pandas was asked to look for the string that contains Violence and sexual offences from the crime type column and put it into a dataframe called df_violent_crime_Newcastle.\n",
        "This was the dataframe that was used for the analysis into the link between violent offences and home football games.\n",
        "Heatmaps have been made using the coordinates for Newcastle and visually show the number of violent offences in the Newcastle area, the heat map has three different colours they go from red which is a high number of offences to yellow that are areas where the crime is more moderate and the green markers which are the areas where violent offences are not as high.  "
      ]
    },
    {
      "cell_type": "code",
      "execution_count": null,
      "metadata": {
        "id": "q6prfbzQi7AU"
      },
      "outputs": [],
      "source": [
        "df_violent_crime_Newcastle=df.loc[df['Crime type'].str.contains('Violence and sexual offences')]"
      ]
    },
    {
      "cell_type": "code",
      "execution_count": null,
      "metadata": {
        "id": "jv52KyUlj4_P"
      },
      "outputs": [],
      "source": [
        "df_violent_crime_Newcastle.head(5)"
      ]
    },
    {
      "cell_type": "code",
      "execution_count": null,
      "metadata": {
        "id": "Wu_HAkzClb9y"
      },
      "outputs": [],
      "source": [
        "violence_coordinates=df_violent_crime_Newcastle[['Latitude','Longitude']].to_numpy()"
      ]
    },
    {
      "cell_type": "code",
      "execution_count": null,
      "metadata": {
        "id": "q_O0UlISzr73"
      },
      "outputs": [],
      "source": [
        "crime_map = folium.Map(width=800, height=600, location=[54.903395\t, -1.676736], control_scale = True, zoom_start=12)\n",
        "crime_map.add_child(MeasureControl())\n",
        "crime_map"
      ]
    },
    {
      "cell_type": "code",
      "execution_count": null,
      "metadata": {
        "id": "f6S48bXMzy9X"
      },
      "outputs": [],
      "source": [
        "crime_map.add_child(plugins.MarkerCluster(violence_coordinates))\n",
        "crime_map"
      ]
    },
    {
      "cell_type": "code",
      "execution_count": null,
      "metadata": {
        "id": "5F7nYlCz0X93"
      },
      "outputs": [],
      "source": [
        "crime_map.add_child(plugins.HeatMap(violence_coordinates))\n",
        "crime_map"
      ]
    },
    {
      "cell_type": "markdown",
      "metadata": {
        "id": "GNCsNfOVc5j_"
      },
      "source": [
        "#The heatmap over shows the area in Newcastle and the amount of the different crime types that have been reported in the area. We can see that there are a lot of red areas on the map meaning there is a lot of crimes happening around the area in the months that have been analysed."
      ]
    },
    {
      "cell_type": "code",
      "execution_count": null,
      "metadata": {
        "id": "poCGvstreTyv"
      },
      "outputs": [],
      "source": [
        "df_july_crime_2021=pd.read_csv('/content/drive/MyDrive/Colab Notebooks/Assessment/2021-07/2021-07-northumbria-street.csv')"
      ]
    },
    {
      "cell_type": "code",
      "execution_count": null,
      "metadata": {
        "id": "jO95nXRoi0xi"
      },
      "outputs": [],
      "source": [
        "df_august_crime_2021=pd.read_csv('/content/drive/MyDrive/Colab Notebooks/Assessment/2021-08/2021-08-northumbria-street.csv')"
      ]
    },
    {
      "cell_type": "code",
      "execution_count": null,
      "metadata": {
        "id": "fQZRAAa3jIVE"
      },
      "outputs": [],
      "source": [
        "df_september_crime_2021=pd.read_csv('/content/drive/MyDrive/Colab Notebooks/Assessment/2021-09/2021-09-northumbria-street.csv')"
      ]
    },
    {
      "cell_type": "code",
      "execution_count": null,
      "metadata": {
        "id": "p7NnIhzMjXsK"
      },
      "outputs": [],
      "source": [
        "df_october_crime_2021=pd.read_csv('/content/drive/MyDrive/Colab Notebooks/Assessment/2021-10/2021-10-northumbria-street.csv')"
      ]
    },
    {
      "cell_type": "code",
      "execution_count": null,
      "metadata": {
        "id": "quXRykQhjjTP"
      },
      "outputs": [],
      "source": [
        "df_november_crime_2021=pd.read_csv('/content/drive/MyDrive/Colab Notebooks/Assessment/2021-11/2021-11-northumbria-street.csv')"
      ]
    },
    {
      "cell_type": "code",
      "execution_count": null,
      "metadata": {
        "id": "hrP4KTgXjwYx"
      },
      "outputs": [],
      "source": [
        "df_december_crime_2021=pd.read_csv('/content/drive/MyDrive/Colab Notebooks/Assessment/2021-12/2021-12-northumbria-street.csv')"
      ]
    },
    {
      "cell_type": "code",
      "execution_count": null,
      "metadata": {
        "id": "yMz2ec7Zj8vN"
      },
      "outputs": [],
      "source": [
        "df_january_crime_2022=pd.read_csv('/content/drive/MyDrive/Colab Notebooks/Assessment/2022-01/2022-01-northumbria-street.csv')"
      ]
    },
    {
      "cell_type": "code",
      "execution_count": null,
      "metadata": {
        "id": "F-3GspNvkI3Y"
      },
      "outputs": [],
      "source": [
        "df_february_crime_2022=pd.read_csv('/content/drive/MyDrive/Colab Notebooks/Assessment/2022-02/2022-02-northumbria-street.csv')"
      ]
    },
    {
      "cell_type": "code",
      "execution_count": null,
      "metadata": {
        "id": "nU9PFUzSkTa1"
      },
      "outputs": [],
      "source": [
        "df_march_crime_2022=pd.read_csv('/content/drive/MyDrive/Colab Notebooks/Assessment/2022-03/2022-03-northumbria-street.csv')"
      ]
    },
    {
      "cell_type": "code",
      "execution_count": null,
      "metadata": {
        "id": "_WL_D89rkc1b"
      },
      "outputs": [],
      "source": [
        "df_april_crime_2022=pd.read_csv('/content/drive/MyDrive/Colab Notebooks/Assessment/2022-04/2022-04-northumbria-street.csv')"
      ]
    },
    {
      "cell_type": "code",
      "execution_count": null,
      "metadata": {
        "id": "801QVGD-kl_2"
      },
      "outputs": [],
      "source": [
        "df_may_crime_2022=pd.read_csv('/content/drive/MyDrive/Colab Notebooks/Assessment/2022-05/2022-05-northumbria-street.csv')"
      ]
    },
    {
      "cell_type": "markdown",
      "metadata": {
        "id": "GZM7tIuSk8Lv"
      },
      "source": [
        "#The code above is the crime data for the months of the 2021/2022 season."
      ]
    },
    {
      "cell_type": "code",
      "execution_count": null,
      "metadata": {
        "id": "zt7TJ8kWlGkc"
      },
      "outputs": [],
      "source": [
        "df_allcrime_northumbria_20212022=pd.concat([df_july_crime_2021, df_august_crime_2021, df_september_crime_2021, df_october_crime_2021, df_november_crime_2021, df_december_crime_2021, df_january_crime_2022, df_february_crime_2022, df_march_crime_2022, df_april_crime_2022, df_may_crime_2022])\n",
        "df_allcrime_northumbria_20212022.head()"
      ]
    },
    {
      "cell_type": "code",
      "execution_count": null,
      "metadata": {
        "id": "-znYOML7nDzE"
      },
      "outputs": [],
      "source": [
        "sns.catplot(y=\"Crime type\", kind=\"count\", row=\"Month\", height=5, aspect=4,\n",
        "            palette=\"flare\", edgecolor=\".6\",\n",
        "            data=df_allcrime_northumbria_20212022, order = df_allcrime_northumbria_20202021['Crime type'].value_counts().index);"
      ]
    },
    {
      "cell_type": "markdown",
      "metadata": {
        "id": "KyYfBE0bjIjV"
      },
      "source": [
        "The charts above are showing the crimes that have been reported in the months for the seaon 2021/2022 of the Newcastle season. From them it shows that violent offences are the second highest reportes crime for the area in the months specifically looked at."
      ]
    },
    {
      "cell_type": "code",
      "execution_count": null,
      "metadata": {
        "id": "7l6Nt31RDBfk"
      },
      "outputs": [],
      "source": [
        "df_allcrime_northumbria_20212022.to_csv('/content/drive/MyDrive/Colab Notebooks/crime data for july 2021 - may 2022.csv')"
      ]
    },
    {
      "cell_type": "code",
      "execution_count": null,
      "metadata": {
        "id": "VD9bfAZnDgR1"
      },
      "outputs": [],
      "source": [
        "df=pd.read_csv('/content/drive/MyDrive/Colab Notebooks/crime data for july 2021 - may 2022.csv')"
      ]
    },
    {
      "cell_type": "code",
      "execution_count": null,
      "metadata": {
        "id": "kGCMIsAzERcY"
      },
      "outputs": [],
      "source": [
        "df_Newcastle1=df.loc[df['LSOA name'].str.contains('Newcastle upon Tyne 006C', na=False)]"
      ]
    },
    {
      "cell_type": "code",
      "execution_count": null,
      "metadata": {
        "id": "aFXQJbfkEW6H"
      },
      "outputs": [],
      "source": [
        "df_Newcastle1.head()"
      ]
    },
    {
      "cell_type": "code",
      "execution_count": null,
      "metadata": {
        "id": "bGC_8a66E_1m"
      },
      "outputs": [],
      "source": [
        "df_violent_crime_Newcastle1=df.loc[df['Crime type'].str.contains('Violence and sexual offences')]"
      ]
    },
    {
      "cell_type": "code",
      "execution_count": null,
      "metadata": {
        "id": "ra8LFZl9FEJZ"
      },
      "outputs": [],
      "source": [
        "df_violent_crime_Newcastle1.head()"
      ]
    },
    {
      "cell_type": "code",
      "execution_count": null,
      "metadata": {
        "id": "ndj9hX_MaHDm"
      },
      "outputs": [],
      "source": [
        "df_gp_each_month = df_Newcastle1.groupby(by='Month')['Crime type'].count()\n",
        "df_gp_each_month"
      ]
    },
    {
      "cell_type": "code",
      "execution_count": null,
      "metadata": {
        "id": "5l6uXJhvaUSe"
      },
      "outputs": [],
      "source": [
        "df_month_count = df_gp_each_month.to_frame(name='Count').reset_index()\n",
        "df_month_count"
      ]
    },
    {
      "cell_type": "markdown",
      "metadata": {
        "id": "iFd_06SwhIL0"
      },
      "source": [
        "In the code above it shows that the months with the highest violent offences reported are March, May and August in the season 2021/2022. April had 24 reported, this is one of the months that had a higher number of home games played in the season."
      ]
    },
    {
      "cell_type": "code",
      "execution_count": null,
      "metadata": {
        "id": "lPDKK4CsakV1"
      },
      "outputs": [],
      "source": [
        "df_violent_crime_Newcastle1=df.loc[df['Crime type'].str.contains('Violence and sexual offences')]\n",
        "df_violent_crime_Newcastle1.head()"
      ]
    },
    {
      "cell_type": "code",
      "execution_count": null,
      "metadata": {
        "id": "_bP1athZdssT"
      },
      "outputs": [],
      "source": [
        "violence_coordinates1=df_violent_crime_Newcastle1[['Latitude','Longitude']].to_numpy()"
      ]
    },
    {
      "cell_type": "code",
      "execution_count": null,
      "metadata": {
        "id": "7twnPZ_9d2HK"
      },
      "outputs": [],
      "source": [
        "crime_map = folium.Map(width=800, height=600, location=[54.903395\t, -1.676736], control_scale = True, zoom_start=12)\n",
        "crime_map.add_child(MeasureControl())\n",
        "crime_map"
      ]
    },
    {
      "cell_type": "code",
      "execution_count": null,
      "metadata": {
        "id": "soWhlD6beHYW"
      },
      "outputs": [],
      "source": [
        "crime_map.add_child(plugins.MarkerCluster(violence_coordinates1))\n",
        "crime_map"
      ]
    },
    {
      "cell_type": "markdown",
      "metadata": {
        "id": "Xn7VK7cPedlT"
      },
      "source": [
        "The heatmap shows the number of violent offences that have been reported in the area. It shows that in and around St. James's PArk, where Newcastle play, there have been 9 reported in the stadium and the number is increasing the further away that you get from the stadium. The numbers are high in and around more housing estate areas, this indicates that people are being violent in their homes or other residences.\n",
        "In and around the towm center area the heat map is showing a lot of red areas, red is showing a hugh number of reports of the violent offences. There are a lot of pubs and clubs in the Newcastle town area where the supporters usually go after a match. The supporters are likely to be fuelling up with alcohol which has a big impact on the behaviour of some poeple."
      ]
    },
    {
      "cell_type": "markdown",
      "metadata": {
        "id": "NrPl0Wkxpk8e"
      },
      "source": [
        "From the data that has been analysed, it can be seen that there is a high number of violent offences when there are football games in the Newcastle area. Violent offences are the second highest crime type in the area over these months, they are second to anti-social behaviour. ASB is very high in the area too, this could also be an effect of having football games in the area. When attending football games, fans can become very emotional about the sport and if the team that they're there to see does not win then this can cause them to become violent towards not only other fans but also towards family members.\n",
        "From the data for all the football games it can be seen that violent offences are at the highest in the month's October and April in the 2020/2021 season. During these months there was 6 home games played at the Newcastle ground, during these months the numbers went up quite drastically for the offences which could support the hypothesis that on days where there are home football games, there are more violent offences in the area. Looking at the 2021/2022 season the month with the highest number of violent offences was March, in this month there was only one home game for this season. The question asked was whether violent offences are higher on home game months. In April there was the most home games played, and the number of violent offences was 24. This is a high number of offences, and this could help support the fact that the offences are higher when there are a lot of home games."
      ]
    },
    {
      "cell_type": "markdown",
      "metadata": {
        "id": "8-DvD02jjKzo"
      },
      "source": [
        "##Conclusion\n",
        "\n",
        "Looking at the results from the maps and charts that have been made, we can see that there is a slight increase in violent offences in and around the Newcastle stadium when there has been a home game played. This is seen to happen during both of the seasons that have been looked at."
      ]
    },
    {
      "cell_type": "markdown",
      "metadata": {
        "id": "5QW2dC8sfeQH"
      },
      "source": [
        "##References\n",
        "\n",
        "Four men given banning orders after disorder flared before Newcastle United Home Game (no date) Home : Northumbria Police. Available at: https://beta.northumbria.police.uk/latest-news/2023/march/four-men-given-banning-orders-after-disorder-flared-before-newcastle-united-home-game/ (Accessed: May 4, 2023).\n",
        "\n",
        "MacKenzie, N. (no date) Newcastle United Football Club - fixtures 2020-21. Available at: https://www.nufc.com/html/2020-21html/fixtures.html (Accessed: March 5, 2023).\n",
        "\n",
        "Violent crime (no date) The Crown Prosecution Service. Available at: https://www.cps.gov.uk/crime-info/violent-crime#:~:text=Violent%20crime%20covers%20a%20variety,and%20corrosive%20substances%20like%20acid.&amp;text=Murder%20and%20manslaughter%20are%20crimes,can%20be%20described%20as%20homicide. (Accessed: April 24, 2023).\n",
        "\n",
        "(no date) Your Download. Available at: https://data.police.uk/data/fetch/652c3307-e9cc-43f4-beb4-fa23d55d10f2/ (Accessed: April 20, 2023).\n",
        "\n",
        "\n",
        "\n"
      ]
    }
  ],
  "metadata": {
    "colab": {
      "provenance": [],
      "mount_file_id": "1spDy-5uwFNUJKLdE7j7JICm4C8Uhhmb8",
      "authorship_tag": "ABX9TyM4m2GFgCq0SdxUmbijYuxG",
      "include_colab_link": true
    },
    "kernelspec": {
      "display_name": "Python 3",
      "name": "python3"
    },
    "language_info": {
      "name": "python"
    }
  },
  "nbformat": 4,
  "nbformat_minor": 0
}